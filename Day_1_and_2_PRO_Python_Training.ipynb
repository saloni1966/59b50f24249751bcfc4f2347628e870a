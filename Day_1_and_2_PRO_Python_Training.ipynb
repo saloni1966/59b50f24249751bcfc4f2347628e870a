{
  "nbformat": 4,
  "nbformat_minor": 0,
  "metadata": {
    "colab": {
      "name": "Day 1 and 2 PRO Python Training.ipynb",
      "provenance": [],
      "collapsed_sections": [],
      "include_colab_link": true
    },
    "kernelspec": {
      "name": "python3",
      "display_name": "Python 3"
    }
  },
  "cells": [
    {
      "cell_type": "markdown",
      "metadata": {
        "id": "view-in-github",
        "colab_type": "text"
      },
      "source": [
        "<a href=\"https://colab.research.google.com/github/saloni1966/59b50f24249751bcfc4f2347628e870a/blob/master/Day_1_and_2_PRO_Python_Training.ipynb\" target=\"_parent\"><img src=\"https://colab.research.google.com/assets/colab-badge.svg\" alt=\"Open In Colab\"/></a>"
      ]
    },
    {
      "cell_type": "code",
      "metadata": {
        "colab": {
          "base_uri": "https://localhost:8080/"
        },
        "id": "6evm1-fd7A-T",
        "outputId": "3a36f226-6329-4557-f40f-742397411a32"
      },
      "source": [
        "a = 15\n",
        "print(a)\n",
        "print(\"The value of a is\", a)"
      ],
      "execution_count": null,
      "outputs": [
        {
          "output_type": "stream",
          "text": [
            "The value of a is 15\n"
          ],
          "name": "stdout"
        }
      ]
    },
    {
      "cell_type": "markdown",
      "metadata": {
        "id": "2THfoDRnqMKy"
      },
      "source": [
        "Operators in Python"
      ]
    },
    {
      "cell_type": "code",
      "metadata": {
        "colab": {
          "base_uri": "https://localhost:8080/"
        },
        "id": "VQMjK3FeTG63",
        "outputId": "df83b1fd-0907-4e04-b100-9badfe68e21e"
      },
      "source": [
        "# Examples of Arithmetic Operator\n",
        "a = 8\n",
        "b = 3\n",
        "add = a + b # Addition of numbers\n",
        "sub = a - b # Subtraction of numbers\n",
        "mul = a * b # Multiplication of number\n",
        "div1 = a / b # Division(float) of number\n",
        "div2 = a // b # Division(floor) of number\n",
        "mod = a % b # Modulo of both number\n",
        "p = a ** b # Power\n",
        "# print results\n",
        "print(add)\n",
        "print(sub)\n",
        "print(mul)\n",
        "print(div1)\n",
        "print(div2)\n",
        "print(mod)\n",
        "print(p)\n"
      ],
      "execution_count": null,
      "outputs": [
        {
          "output_type": "stream",
          "text": [
            "11\n",
            "5\n",
            "24\n",
            "2.6666666666666665\n",
            "2\n",
            "2\n",
            "512\n"
          ],
          "name": "stdout"
        }
      ]
    },
    {
      "cell_type": "code",
      "metadata": {
        "colab": {
          "base_uri": "https://localhost:8080/"
        },
        "id": "63aZWG-fTi_K",
        "outputId": "f4540d77-78fd-4860-921f-ca460fcf8d86"
      },
      "source": [
        "# Examples of Relational Operators\n",
        "a = 13\n",
        "b = 33\n",
        "# a > b is False\n",
        "print(a > b)\n",
        "\n",
        "# a < b is True\n",
        "print(a < b)\n",
        "\n",
        "# a == b is False\n",
        "print(a == b)\n",
        "\n",
        "# a != b is True\n",
        "print(a != b)\n",
        "\n",
        "# a >= b is False\n",
        "print(a >= b)\n",
        "\n",
        "# a <= b is True\n",
        "print(a <= b)\n"
      ],
      "execution_count": null,
      "outputs": [
        {
          "output_type": "stream",
          "text": [
            "False\n",
            "True\n",
            "False\n",
            "True\n",
            "False\n",
            "True\n"
          ],
          "name": "stdout"
        }
      ]
    },
    {
      "cell_type": "code",
      "metadata": {
        "colab": {
          "base_uri": "https://localhost:8080/"
        },
        "id": "jPBN8wsHTmPq",
        "outputId": "ac8f75d2-e6cc-4753-be16-b6af649afd01"
      },
      "source": [
        "# Examples of Logical Operator\n",
        "a = True\n",
        "b = False\n",
        "\n",
        "# Print a and b is False\n",
        "print(a and b)\n",
        "\n",
        "# Print a or b is True\n",
        "print(a or b)\n",
        "\n",
        "# Print not a is False\n",
        "print(not a)\n"
      ],
      "execution_count": null,
      "outputs": [
        {
          "output_type": "stream",
          "text": [
            "False\n",
            "True\n",
            "False\n"
          ],
          "name": "stdout"
        }
      ]
    },
    {
      "cell_type": "markdown",
      "metadata": {
        "id": "mFDyd3uB4WBx"
      },
      "source": [
        "# **Conditional and Looping Statements :**\n"
      ]
    },
    {
      "cell_type": "markdown",
      "metadata": {
        "id": "HytMxJMs7xiA"
      },
      "source": [
        "\n",
        "|Statement|Description|\n",
        "|-|-|\n",
        "|If Statement|The if statement is used to test a specific condition. If the condition is true, a block of code (if-block) will be executed.|\n",
        "|If - else Statement|The if-else statement is similar to if statement except the fact that, it also provides the block of the code for the false case of the condition to be checked. If the condition provided in the if statement is false, then the else statement will be executed.|\n",
        "|Nested if Statement|Nested if statements enable us to use if ? else statement inside an outer if statement|"
      ]
    },
    {
      "cell_type": "markdown",
      "metadata": {
        "id": "tH3YoxnE7ehb"
      },
      "source": [
        "**The syntax of if statement :**\n",
        "```\n",
        "if condition:\n",
        "   block_of_code\n",
        "```"
      ]
    },
    {
      "cell_type": "markdown",
      "metadata": {
        "id": "IRNELAvL3F11"
      },
      "source": [
        "<img src='https://static.javatpoint.com/python/images/python-if-statement.png' width=400>"
      ]
    },
    {
      "cell_type": "code",
      "metadata": {
        "id": "i-UkkdT01j3a"
      },
      "source": [
        "if True :\n",
        "  print(\"hello\")"
      ],
      "execution_count": null,
      "outputs": []
    },
    {
      "cell_type": "code",
      "metadata": {
        "id": "ef2IHZrc1unP",
        "colab": {
          "base_uri": "https://localhost:8080/"
        },
        "outputId": "1102df6c-5ae7-4a84-d48e-d8b765e01c97"
      },
      "source": [
        "n=-2\n",
        "if n>0:\n",
        "  print(\"hello\")\n",
        "print(\"Teachers\")\n",
        "  "
      ],
      "execution_count": null,
      "outputs": [
        {
          "output_type": "stream",
          "text": [
            "Teachers\n"
          ],
          "name": "stdout"
        }
      ]
    },
    {
      "cell_type": "code",
      "metadata": {
        "id": "qCX8HdPo2IR9"
      },
      "source": [
        "choice=input(\"Enter your favourite colour: \")"
      ],
      "execution_count": null,
      "outputs": []
    },
    {
      "cell_type": "code",
      "metadata": {
        "colab": {
          "base_uri": "https://localhost:8080/"
        },
        "id": "mEEDqcn22g0Y",
        "outputId": "e94bcc17-9b93-49e1-e30a-1afba64e89b8"
      },
      "source": [
        "# int , float , string , boolean\n",
        "# If you take any input using the input() the data type by default is always string.\n",
        "type(choice)"
      ],
      "execution_count": null,
      "outputs": [
        {
          "output_type": "execute_result",
          "data": {
            "text/plain": [
              "str"
            ]
          },
          "metadata": {
            "tags": []
          },
          "execution_count": 6
        }
      ]
    },
    {
      "cell_type": "code",
      "metadata": {
        "colab": {
          "base_uri": "https://localhost:8080/"
        },
        "id": "GIz39yB-2zYt",
        "outputId": "f710372b-03f0-4277-d0bd-580ddcff5869"
      },
      "source": [
        "inp=input(\"Enter a no: \")"
      ],
      "execution_count": null,
      "outputs": [
        {
          "output_type": "stream",
          "text": [
            "Enter a no: 4\n"
          ],
          "name": "stdout"
        }
      ]
    },
    {
      "cell_type": "code",
      "metadata": {
        "id": "mYYaPHUJ23yz",
        "colab": {
          "base_uri": "https://localhost:8080/"
        },
        "outputId": "c9551ea7-877a-4ca8-c094-825a12c4f25b"
      },
      "source": [
        "type(inp)"
      ],
      "execution_count": null,
      "outputs": [
        {
          "output_type": "execute_result",
          "data": {
            "text/plain": [
              "str"
            ]
          },
          "metadata": {
            "tags": []
          },
          "execution_count": 8
        }
      ]
    },
    {
      "cell_type": "code",
      "metadata": {
        "colab": {
          "base_uri": "https://localhost:8080/"
        },
        "id": "zvSVNQ9D29TM",
        "outputId": "1485ec75-661a-47ae-ebe4-2df145baeec8"
      },
      "source": [
        "inp=int(input(\"Enter a no: \"))"
      ],
      "execution_count": null,
      "outputs": [
        {
          "output_type": "stream",
          "text": [
            "Enter a no: 5\n"
          ],
          "name": "stdout"
        }
      ]
    },
    {
      "cell_type": "code",
      "metadata": {
        "colab": {
          "base_uri": "https://localhost:8080/"
        },
        "id": "TB2n_QMR3Dz3",
        "outputId": "e1e1e94f-034d-4843-a197-b9df495e6f9c"
      },
      "source": [
        "type(inp)"
      ],
      "execution_count": null,
      "outputs": [
        {
          "output_type": "execute_result",
          "data": {
            "text/plain": [
              "int"
            ]
          },
          "metadata": {
            "tags": []
          },
          "execution_count": 11
        }
      ]
    },
    {
      "cell_type": "code",
      "metadata": {
        "id": "Rnm35lLklofo"
      },
      "source": [
        "    #Python Program to check number is even or odd\n",
        "  num = int(input(\"Enter a number: \"))\n",
        "    if (num % 2) == 0:  \n",
        "       print(num, \"is even number\") \n",
        "    else:  \n",
        "       print(num, \"is odd number\")  \n",
        "     "
      ],
      "execution_count": null,
      "outputs": []
    },
    {
      "cell_type": "code",
      "metadata": {
        "colab": {
          "base_uri": "https://localhost:8080/"
        },
        "id": "sFNPt7fPvZsS",
        "outputId": "8f0fe802-432e-4520-bbcc-4f6436e43e8b"
      },
      "source": [
        "mynum = int(input(\"Please enter a number: \"))\n",
        "if(mynum<0):\n",
        "  print(\"The number is negative\")\n",
        "else:\n",
        "  print(\"The number is positive\")\n",
        "\n"
      ],
      "execution_count": null,
      "outputs": [
        {
          "output_type": "stream",
          "text": [
            "Please enter a number: 4\n",
            "The number is positive\n"
          ],
          "name": "stdout"
        }
      ]
    },
    {
      "cell_type": "code",
      "metadata": {
        "id": "WJJt8-JOms6Z",
        "colab": {
          "base_uri": "https://localhost:8080/"
        },
        "outputId": "1d92cee9-0813-4900-8f5c-52bace480512"
      },
      "source": [
        "# Python program to find the largest number among the three input numbers\n",
        "\n",
        "num1 = 10\n",
        "num2 = 14\n",
        "num3 = 12\n",
        "if (num1 >= num2) and (num1 >= num3):\n",
        "   largest = num1\n",
        "elif (num2 >= num1) and (num2 >= num3):\n",
        "   largest = num2\n",
        "else:\n",
        "   largest = num3\n",
        "\n",
        "print(\"The largest number is\", largest)"
      ],
      "execution_count": null,
      "outputs": [
        {
          "output_type": "stream",
          "text": [
            "The largest number is 14\n"
          ],
          "name": "stdout"
        }
      ]
    },
    {
      "cell_type": "code",
      "metadata": {
        "id": "Pv6EEhWpBFFB"
      },
      "source": [
        "#Take total bill amount from the user and if it is 1000 and above give him 10% discount and \n",
        "#display the payable amount or else no discount"
      ],
      "execution_count": null,
      "outputs": []
    },
    {
      "cell_type": "code",
      "metadata": {
        "colab": {
          "base_uri": "https://localhost:8080/"
        },
        "id": "0M-eFFDfFFqA",
        "outputId": "84e8cb33-f042-43c9-92ea-d05a0ed53fd3"
      },
      "source": [
        "#Write a program to give a discount of 10% if the total bill exceeds 1000/- .\n",
        "shoppingamt = int(input(\"Enter the total amount of purchase: \"))\n",
        "if shoppingamt>=1000: \n",
        "  discount=0.1*shoppingamt\n",
        "  print(\"Congratulations ! You are eligible for a 10% discount on your bill.\")\n",
        "  print(\"Discount is of Rs\",discount)\n",
        "  shoppingamt -=discount    #shoppingamt = shoppingamt - discount\n",
        "  print(\"After discount you need to pay Rs\",shoppingamt,\"only. See you again . Happy shopping !\")\n",
        "print(\"You need to pay a sum of Rs\",shoppingamt,\".\")# This is the line we wanted to be printed only if bill amount is less than 1000."
      ],
      "execution_count": null,
      "outputs": [
        {
          "output_type": "stream",
          "text": [
            "Enter the total amount of purchase: 1100\n",
            "Congratulations ! You are eligible for a 10% discount on your bill.\n",
            "Discount is of Rs 110.0\n",
            "After discount you need to pay Rs 990.0 only. See you again . Happy shopping !\n",
            "You need to pay a sum of Rs 990.0 .\n"
          ],
          "name": "stdout"
        }
      ]
    },
    {
      "cell_type": "code",
      "metadata": {
        "id": "uD-dgm-YFBcK"
      },
      "source": [
        "#Check if a number is a multiple of 5.\n",
        "num = int(input(\"Enter a no: \"))\n",
        "if num%5==0:\n",
        "  print(\"The number is a multiple of 5\")\n",
        "else:\n",
        "  print(\"The number is not a multiple of 5\")\n"
      ],
      "execution_count": null,
      "outputs": []
    },
    {
      "cell_type": "markdown",
      "metadata": {
        "id": "X6i39iiF89kn"
      },
      "source": [
        "**Syntax of if..else statement :**\n",
        "```\n",
        "if condition:\n",
        "   block_of_code_1\n",
        "else:\n",
        "   block_of_code_2\n",
        "```\n",
        "block_of_code_1: This would execute if the given condition is true\n",
        "block_of_code_2: This would execute if the given condition is false"
      ]
    },
    {
      "cell_type": "markdown",
      "metadata": {
        "id": "5o-9lTIx3dd2"
      },
      "source": [
        "<img src='https://static.javatpoint.com/python/images/python-if-else-statement.png' width=400>"
      ]
    },
    {
      "cell_type": "code",
      "metadata": {
        "id": "6W631jrDPlR7",
        "colab": {
          "base_uri": "https://localhost:8080/"
        },
        "outputId": "b91b2414-7465-484c-dc26-b0da1c45918e"
      },
      "source": [
        "# To check if a person is allowed to cast vote or not . \n",
        "age = int(input(\"Enter your age: \"))\n",
        "if age>=18:\n",
        "  print(\"You can cast a vote.\")\n",
        "else :\n",
        "  print(\"A few years more. !\")"
      ],
      "execution_count": null,
      "outputs": [
        {
          "output_type": "stream",
          "text": [
            "Enter your age: 18\n",
            "You can cast a vote.\n"
          ],
          "name": "stdout"
        }
      ]
    },
    {
      "cell_type": "markdown",
      "metadata": {
        "id": "hFgGkLl69NQj"
      },
      "source": [
        "**Syntax of if elif else statement :**\n",
        "This way we are checking multiple conditions.\n",
        "```\n",
        "if condition:\n",
        "   block_of_code_1\n",
        "elif condition_2:\n",
        "   block_of_code_2\n",
        "elif condition_3:\n",
        "   block_of_code_3\n",
        "..\n",
        "..\n",
        "..\n",
        "else:\n",
        "  block_of_code_n\n",
        "```\n",
        "Notes:\n",
        "1. There can be multiple ‘elif’ blocks, however there is only ‘else’ block is allowed.\n",
        "2. Out of all these blocks only one block_of_code gets executed. If the condition is true then the code inside ‘if’ gets executed, if condition is false then the next condition(associated with elif) is evaluated and so on. If none of the conditions is true then the code inside ‘else’ gets executed."
      ]
    },
    {
      "cell_type": "markdown",
      "metadata": {
        "id": "RbrCIsXd32nP"
      },
      "source": [
        "<img src='https://static.javatpoint.com/python/images/python-elif-statement.png' width=400>"
      ]
    },
    {
      "cell_type": "code",
      "metadata": {
        "id": "KaUCJTdRJYua",
        "colab": {
          "base_uri": "https://localhost:8080/"
        },
        "outputId": "f816c2d1-296d-4737-9a66-38bf1a545c34"
      },
      "source": [
        "#Write a program to give a discount of 10% if the total bill is above 1000/-  , \n",
        "#a discount of 20% if the total bill is above 3000 and a discount of 30% for any amount greater than Rs 5000. \n",
        "shoppingamt = int(input(\"Enter the total amount of purchase. \"))\n",
        "if shoppingamt>=1000 and shoppingamt<3000:\n",
        "  discount=10*shoppingamt/100\n",
        "  print(\"Congratulations ! You are eligible for a 10% discount on your bill.\")\n",
        "  print(\"Discount is of Rs\",discount,\".\")\n",
        "  shoppingamt -=discount\n",
        "  print(\"After discount you need to pay Rs\",shoppingamt,\"only. See you again . Happy shopping !\")\n",
        "elif shoppingamt>=3000 and shoppingamt<5000:\n",
        "  discount=20*shoppingamt/100\n",
        "  print(\"Congratulations ! You are eligible for a 20% discount on your bill.\")\n",
        "  print(\"Discount is of Rs\",discount,\".\")\n",
        "  shoppingamt -=discount\n",
        "  print(\"After discount you need to pay Rs\",shoppingamt,\"only. See you again . Happy shopping !\")\n",
        "elif shoppingamt>5000:\n",
        "  discount=30*shoppingamt/100\n",
        "  print(\"Congratulations ! You are eligible for a 30% discount on your bill.\")\n",
        "  print(\"Discount is of Rs\",discount,\".\")\n",
        "  shoppingamt -=discount\n",
        "  print(\"After discount you need to pay Rs\",shoppingamt,\"only. See you again . Happy shopping !\")\n",
        "else :\n",
        "  print(\"You need to pay a sum of Rs\",shoppingamt,\".See you again . Happy shopping !\")"
      ],
      "execution_count": null,
      "outputs": [
        {
          "output_type": "stream",
          "text": [
            "Enter the total amount of purchase. 3600\n",
            "Congratulations ! You are eligible for a 20% discount on your bill.\n",
            "Discount is of Rs 720.0 .\n",
            "After discount you need to pay Rs 2880.0 only. See you again . Happy shopping !\n"
          ],
          "name": "stdout"
        }
      ]
    },
    {
      "cell_type": "code",
      "metadata": {
        "id": "8IjfzNJlPXtE"
      },
      "source": [
        "# To check if a person is a juvenile (age < 18) or an adult (age >18 but age<50) or an elderly (age>50) .\n",
        "age = int(input(\"Enter \"))"
      ],
      "execution_count": null,
      "outputs": []
    },
    {
      "cell_type": "markdown",
      "metadata": {
        "id": "fF0Sl7rV9e7b"
      },
      "source": [
        "**Syntax of while loop :**\n",
        "```\n",
        "while condition:\n",
        "    #body_of_while\n",
        "```\n",
        "The body_of_while is set of Python statements which requires repeated execution. These set of statements execute repeatedly until the given condition returns false."
      ]
    },
    {
      "cell_type": "code",
      "metadata": {
        "id": "cs7IfP_R8E0Z"
      },
      "source": [
        "i=15 #initialisation\n",
        "while i!=0: #while condition and the condition has to be true for the body to get executed.\n",
        "  print(\"Run\")\n",
        "  i=i-1 #increment/decrement"
      ],
      "execution_count": null,
      "outputs": []
    },
    {
      "cell_type": "code",
      "metadata": {
        "colab": {
          "base_uri": "https://localhost:8080/"
        },
        "id": "MDhBHydfLapu",
        "outputId": "075668dd-7aef-4cea-efd2-869ed1f7e13d"
      },
      "source": [
        "counter=1\n",
        "while counter<=5:\n",
        "  print(\"Hello\")\n",
        "  counter=counter+1;"
      ],
      "execution_count": null,
      "outputs": [
        {
          "output_type": "stream",
          "text": [
            "Hello\n",
            "Hello\n",
            "Hello\n",
            "Hello\n",
            "Hello\n"
          ],
          "name": "stdout"
        }
      ]
    },
    {
      "cell_type": "markdown",
      "metadata": {
        "id": "MWwby_F9DwDJ"
      },
      "source": [
        "![2.PNG](data:image/png;base64,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)"
      ]
    },
    {
      "cell_type": "markdown",
      "metadata": {
        "id": "dY2j3gEv9tbj"
      },
      "source": [
        "**Syntax of For loop :**\n",
        "```\n",
        "for <variable> in <sequence>:  \n",
        "   # body_of_loop that has set of statements\n",
        "   # which requires repeated execution\n",
        "```\n",
        "Here <variable> is a variable that is used for iterating over a <sequence>. On every iteration it takes the next value from <sequence>  until the end of sequence is reached."
      ]
    },
    {
      "cell_type": "code",
      "metadata": {
        "colab": {
          "base_uri": "https://localhost:8080/"
        },
        "id": "8uJOTmmseWga",
        "outputId": "16140125-c56b-4d79-d23c-7f62f70229fc"
      },
      "source": [
        "digits = [9, 1, 5]   #List\n",
        "\n",
        "for i in digits:\n",
        "    print(i)\n",
        "else:\n",
        "    print(\"No items left.\")"
      ],
      "execution_count": null,
      "outputs": [
        {
          "output_type": "stream",
          "text": [
            "9\n",
            "1\n",
            "5\n",
            "No items left.\n"
          ],
          "name": "stdout"
        }
      ]
    },
    {
      "cell_type": "code",
      "metadata": {
        "colab": {
          "base_uri": "https://localhost:8080/"
        },
        "id": "WwbBl4yEeE2r",
        "outputId": "8eadfb8e-2642-46df-dc2e-cb7376870c8d"
      },
      "source": [
        "# Program to find the sum of all numbers stored in a list\n",
        "# List of numbers\n",
        "numbers = [6, 5, 3, 8, 4]\n",
        "# variable to store the sum\n",
        "sum = 0\n",
        "# iterate over the list\n",
        "for val in numbers:   \n",
        "    sum = sum+val\n",
        "    \n",
        "print(\"The sum is\", sum)"
      ],
      "execution_count": null,
      "outputs": [
        {
          "output_type": "stream",
          "text": [
            "6\n",
            "11\n",
            "14\n",
            "22\n",
            "26\n",
            "The sum is 26\n"
          ],
          "name": "stdout"
        }
      ]
    },
    {
      "cell_type": "code",
      "metadata": {
        "colab": {
          "base_uri": "https://localhost:8080/"
        },
        "id": "gsug1zYWQ0ym",
        "outputId": "de31848d-b0af-4ad1-d529-72a40a1e1a13"
      },
      "source": [
        "#Find the sum of the digits of a number.\n",
        "number = int(input(\"Enter a number of your choice.\"))\n",
        "sum=0\n",
        "while number!=0:\n",
        "  last_digit=number%10\n",
        "  sum=sum+last_digit\n",
        "  number=number//10\n",
        "print(\"The sum of the digits of the number is\",sum,\".\")"
      ],
      "execution_count": null,
      "outputs": [
        {
          "output_type": "stream",
          "text": [
            "Enter a number of your choice.456\n",
            "The sum of the digits of the number is 15 .\n"
          ],
          "name": "stdout"
        }
      ]
    },
    {
      "cell_type": "markdown",
      "metadata": {
        "id": "egecandkYojH"
      },
      "source": [
        "**The range() function :** \n",
        "\n",
        "It returns a sequence of numbers, starting from 0 by default, and increments by 1 (by default), and stops before a specified number.\n",
        "```\n",
        "Syntax :\n",
        "range(start, stop, step)\n",
        "```\n",
        "\n",
        "\n",
        " \n",
        " \n",
        "\n",
        "|Parameter Values|Parameter\tDescription|\n",
        "|-|-|\n",
        "|start\t(Optional) |An integer number specifying at which position to start. Default is 0|\n",
        "|stop\t(Required) |An integer number specifying at which position to stop (not included).|\n",
        "|step\t(Optional) |An integer number specifying the incrementation. Default is 1|"
      ]
    },
    {
      "cell_type": "code",
      "metadata": {
        "id": "ERolHiUL-ooe"
      },
      "source": [
        "#for a-z/word in range(starting index , ending index+1)\n",
        "#range(60,70) --> 60-->61...-->69"
      ],
      "execution_count": null,
      "outputs": []
    },
    {
      "cell_type": "code",
      "metadata": {
        "colab": {
          "base_uri": "https://localhost:8080/"
        },
        "id": "AqD2lvvAXsYy",
        "outputId": "48752803-516f-46f7-81e6-e02a556f5aee"
      },
      "source": [
        "#Print odd numbers from 15 to 25\n",
        "for i in range(15,26,3):\n",
        "  \n",
        "    print(i)"
      ],
      "execution_count": null,
      "outputs": [
        {
          "output_type": "stream",
          "text": [
            "15\n",
            "18\n",
            "21\n",
            "24\n"
          ],
          "name": "stdout"
        }
      ]
    },
    {
      "cell_type": "code",
      "metadata": {
        "id": "IqeZjpPHOhNW"
      },
      "source": [
        "for val in range(5,31,4):\n",
        "  print(val)"
      ],
      "execution_count": null,
      "outputs": []
    },
    {
      "cell_type": "code",
      "metadata": {
        "colab": {
          "base_uri": "https://localhost:8080/"
        },
        "id": "HDesBhBOZxcC",
        "outputId": "5e722477-4e2c-41de-8dba-b52727db951d"
      },
      "source": [
        "#Print odd numbers from 15 to 25\n",
        "for n in range(15, 26, 2):\n",
        "  print(n)"
      ],
      "execution_count": null,
      "outputs": [
        {
          "output_type": "stream",
          "text": [
            "15\n",
            "17\n",
            "19\n",
            "21\n",
            "23\n",
            "25\n"
          ],
          "name": "stdout"
        }
      ]
    },
    {
      "cell_type": "code",
      "metadata": {
        "id": "_fgC-8Cn_Nb3"
      },
      "source": [
        "#range starting index then by default it is always 0"
      ],
      "execution_count": null,
      "outputs": []
    },
    {
      "cell_type": "code",
      "metadata": {
        "id": "pPOG0OEWYJUF",
        "colab": {
          "base_uri": "https://localhost:8080/"
        },
        "outputId": "3fcdf306-f156-4ad1-a027-8773de09119f"
      },
      "source": [
        "#Print first 10 natural numbers.\n",
        "for n in range(25,41):\n",
        "  print(n)"
      ],
      "execution_count": null,
      "outputs": [
        {
          "output_type": "stream",
          "text": [
            "25\n",
            "26\n",
            "27\n",
            "28\n",
            "29\n",
            "30\n",
            "31\n",
            "32\n",
            "33\n",
            "34\n",
            "35\n",
            "36\n",
            "37\n",
            "38\n",
            "39\n",
            "40\n"
          ],
          "name": "stdout"
        }
      ]
    },
    {
      "cell_type": "markdown",
      "metadata": {
        "id": "Gzcyxkj16xGd"
      },
      "source": [
        "**Check**"
      ]
    },
    {
      "cell_type": "code",
      "metadata": {
        "id": "P7PVQtVt6g61"
      },
      "source": [
        "#Predict the output\n",
        "print(\"C:\\\\Program Files\\\\check.txt\")"
      ],
      "execution_count": null,
      "outputs": []
    },
    {
      "cell_type": "code",
      "metadata": {
        "id": "7Npv-qAR7H9M"
      },
      "source": [
        "print(3^4)"
      ],
      "execution_count": null,
      "outputs": []
    },
    {
      "cell_type": "markdown",
      "metadata": {
        "id": "qxQ-O8767zTt"
      },
      "source": [
        "Explaination:\n",
        "The ^ operator is perform the bitwise XOR operation.\n",
        "\n",
        "The Bitwise XOR gives the 0 at the same bit otherwise it gives 1 when bits are not same.\n",
        "\n",
        "In the given question the 3 will be represented as 011 in bits format ans 4 is represented as 100 as the bits format .\n",
        "On performing the XOR operation in bitwise it gives 111 which is 7 .  "
      ]
    }
  ]
}